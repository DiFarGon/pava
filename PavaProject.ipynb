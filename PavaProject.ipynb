{
 "cells": [
  {
   "cell_type": "code",
   "execution_count": 603,
   "id": "354c6fa6-5d31-4a3c-a2a4-3ab2b3682a43",
   "metadata": {},
   "outputs": [
    {
     "data": {
      "text/plain": [
       "my_eval (generic function with 2 methods)"
      ]
     },
     "execution_count": 603,
     "metadata": {},
     "output_type": "execute_result"
    }
   ],
   "source": [
    "global_namespace = Dict(\":y\" => \"x->x + 3\")\n",
    "\n",
    "function metajulia_repl()\n",
    "    print(global_namespace)\n",
    "    print(\">>\", \" \")\n",
    "    ans = readline()\n",
    "    print(\"ans: $(ans)\\n\")\n",
    "    parsed_ans = Meta.parse(ans)\n",
    "    my_eval(parsed_ans, global_namespace)\n",
    "end\n",
    "\n",
    "function my_eval(expr, namespace)\n",
    "    if !(expr isa Expr)\n",
    "        if expr isa Symbol\n",
    "            return namespace[expr]\n",
    "        else\n",
    "            return expr\n",
    "        end\n",
    "    else\n",
    "        if expr.head == :block\n",
    "            for arg in expr.args[begin:end-1]\n",
    "                if !(arg isa LineNumberNode)\n",
    "                    my_eval(arg, namespace)\n",
    "                end\n",
    "            end\n",
    "            return !(expr.args[end] isa LineNumberNode) ? my_eval(expr.args[end], namespace) : nothing\n",
    "        elseif expr.head == :&&\n",
    "            return reduce(&, [my_eval(expr.args[x], namespace) for x in 1:length(expr.args)])\n",
    "        elseif expr.head == :||\n",
    "            return reduce(|, [my_eval(expr.args[x], namespace) for x in 1:length(expr.args)])\n",
    "        elseif expr.head == :if\n",
    "            return my_eval(expr.args[1], namespace) ? my_eval(expr.args[2], namespace) : my_eval(expr.args[3], namespace)\n",
    "        elseif expr.head == :elseif\n",
    "            return my_eval(expr.args[1].args[2]) ? my_eval(expr.args[2], namespace) : my_eval(expr.args[3], namespace)\n",
    "        elseif expr.head == :(=)\n",
    "            if (expr.args[1] isa Expr)\n",
    "                println(\"arrived at function definition!\")\n",
    "                namespace[expr.args[1].args[1]] = string(\"(\", expr.args[1].args[2], \"->\",  expr.args[2].args[end], \")\")\n",
    "            else\n",
    "                namespace[expr.args[1]] = my_eval(expr.args[2], namespace)\n",
    "            end\n",
    "        elseif expr.head == :let\n",
    "            # println(\"let\")\n",
    "            # println(expr.args[begin])\n",
    "            # println(expr.args[end])\n",
    "            let\n",
    "                scope_dict = copy(namespace)\n",
    "                for arg in expr.args[begin:end-1]\n",
    "                    if !(arg isa LineNumberNode)\n",
    "                        my_eval(arg, scope_dict)\n",
    "                    end\n",
    "                end\n",
    "                # println(!(expr.args[end] isa LineNumberNode))\n",
    "                return !(expr.args[end] isa LineNumberNode) ? my_eval(expr.args[end], scope_dict) : nothing\n",
    "            end\n",
    "        elseif expr.head == :call\n",
    "            if expr.args[1] == :+\n",
    "                return reduce(+, [my_eval(expr.args[x], namespace) for x in 2:length(expr.args)])\n",
    "            elseif expr.args[1] == :*\n",
    "                return reduce(*, [my_eval(expr.args[x], namespace) for x in 2:length(expr.args)])\n",
    "            elseif expr.args[1] == :/\n",
    "                return reduce(/, [my_eval(expr.args[x], namespace) for x in 2:length(expr.args)])\n",
    "            elseif expr.args[1] == :<\n",
    "                return reduce(<, [my_eval(expr.args[x], namespace) for x in 2:length(expr.args)])\n",
    "            elseif expr.args[1] == :>\n",
    "                return reduce(>, [my_eval(expr.args[x], namespace) for x in 2:length(expr.args)])\n",
    "            end\n",
    "        end\n",
    "    end\n",
    "end"
   ]
  },
  {
   "cell_type": "code",
   "execution_count": 604,
   "id": "df1edb06-5951-4590-a64b-6b712b372228",
   "metadata": {},
   "outputs": [
    {
     "name": "stdout",
     "output_type": "stream",
     "text": [
      "Dict(\":y\" => \"x->x + 3\")>> "
     ]
    },
    {
     "name": "stdin",
     "output_type": "stream",
     "text": [
      "stdin>  y(3)\n"
     ]
    },
    {
     "name": "stdout",
     "output_type": "stream",
     "text": [
      "longer than 3!\n",
      "modifying ans\n",
      "ans:\t:y\n",
      "x->x + 3\n",
      "ans: nothing(3)\n"
     ]
    }
   ],
   "source": [
    "metajulia_repl()"
   ]
  },
  {
   "cell_type": "code",
   "execution_count": 528,
   "id": "fc8be44f-3d63-48c3-a452-f310425b4ce9",
   "metadata": {},
   "outputs": [
    {
     "data": {
      "text/plain": [
       "true"
      ]
     },
     "execution_count": 528,
     "metadata": {},
     "output_type": "execute_result"
    }
   ],
   "source": [
    "Meta.parse(\"y -> y+2\").args[2].args[end].args[2] == Meta.parse(\"y -> y+2\").args[1]"
   ]
  },
  {
   "cell_type": "code",
   "execution_count": 516,
   "id": "2906c34d-7f48-48fe-ba38-facec057bf24",
   "metadata": {},
   "outputs": [
    {
     "data": {
      "text/plain": [
       "5"
      ]
     },
     "execution_count": 516,
     "metadata": {},
     "output_type": "execute_result"
    }
   ],
   "source": [
    "(y -> y+2)(3)"
   ]
  },
  {
   "cell_type": "code",
   "execution_count": 512,
   "id": "22538024-969b-4857-910d-9b28658c5b90",
   "metadata": {},
   "outputs": [
    {
     "ename": "LoadError",
     "evalue": "MethodError: objects of type Expr are not callable",
     "output_type": "error",
     "traceback": [
      "MethodError: objects of type Expr are not callable",
      "",
      "Stacktrace:",
      " [1] top-level scope",
      "   @ In[512]:1"
     ]
    }
   ],
   "source": [
    "Meta.parse(global_namespace[:x])(4)"
   ]
  },
  {
   "cell_type": "code",
   "execution_count": 574,
   "id": "959676ae-e851-4e79-8016-5279e5147823",
   "metadata": {},
   "outputs": [
    {
     "ename": "LoadError",
     "evalue": "type Symbol has no field name",
     "output_type": "error",
     "traceback": [
      "type Symbol has no field name",
      "",
      "Stacktrace:",
      " [1] getproperty(x::Symbol, f::Symbol)",
      "   @ Base .\\Base.jl:37",
      " [2] top-level scope",
      "   @ In[574]:1"
     ]
    }
   ],
   "source": [
    "Meta.parse(\"x(y)\").args[1]."
   ]
  },
  {
   "cell_type": "code",
   "execution_count": 246,
   "id": "1da180cb-2c46-45c4-a1d9-deb013ba37a7",
   "metadata": {},
   "outputs": [
    {
     "ename": "LoadError",
     "evalue": "MethodError: no method matching my_eval()\n\n\u001b[0mClosest candidates are:\n\u001b[0m  my_eval(\u001b[91m::Any\u001b[39m)\n\u001b[0m\u001b[90m   @\u001b[39m \u001b[35mMain\u001b[39m \u001b[90m\u001b[4mIn[242]:9\u001b[24m\u001b[39m\n",
     "output_type": "error",
     "traceback": [
      "MethodError: no method matching my_eval()\n\n\u001b[0mClosest candidates are:\n\u001b[0m  my_eval(\u001b[91m::Any\u001b[39m)\n\u001b[0m\u001b[90m   @\u001b[39m \u001b[35mMain\u001b[39m \u001b[90m\u001b[4mIn[242]:9\u001b[24m\u001b[39m\n",
      "",
      "Stacktrace:",
      " [1] top-level scope",
      "   @ In[246]:1"
     ]
    }
   ],
   "source": [
    "my_eval()"
   ]
  },
  {
   "cell_type": "code",
   "execution_count": 490,
   "id": "1cb759c2-2f3e-4362-9f93-42fdc6ae1b14",
   "metadata": {},
   "outputs": [
    {
     "data": {
      "text/plain": [
       ":(y * y + 34)"
      ]
     },
     "execution_count": 490,
     "metadata": {},
     "output_type": "execute_result"
    }
   ],
   "source": [
    "Meta.parse(\"x(y) = y*y+34\").args[2].args[end]\n"
   ]
  },
  {
   "cell_type": "code",
   "execution_count": 333,
   "id": "0e79013e-e5e6-40b3-be3a-0d95a7e8efe5",
   "metadata": {},
   "outputs": [
    {
     "data": {
      "text/plain": [
       "1-element Vector{Any}:\n",
       " :(\u001b[90m#= none:1 =#\u001b[39m)"
      ]
     },
     "execution_count": 333,
     "metadata": {},
     "output_type": "execute_result"
    }
   ],
   "source": [
    "Meta.parse(\"let var = 100 end\").args[end].args"
   ]
  },
  {
   "cell_type": "code",
   "execution_count": 547,
   "id": "ce329810-bdc8-4900-9ee4-4c3163442503",
   "metadata": {},
   "outputs": [
    {
     "ename": "LoadError",
     "evalue": "MethodError: objects of type String are not callable",
     "output_type": "error",
     "traceback": [
      "MethodError: objects of type String are not callable",
      "",
      "Stacktrace:",
      " [1] top-level scope",
      "   @ In[547]:1"
     ]
    }
   ],
   "source": [
    "Meta.parse(global_namespace[:x])"
   ]
  },
  {
   "cell_type": "code",
   "execution_count": 228,
   "id": "a1570bc4-8e1e-4b7b-bf3b-77ce1fa09222",
   "metadata": {},
   "outputs": [
    {
     "data": {
      "text/plain": [
       "Int64"
      ]
     },
     "execution_count": 228,
     "metadata": {},
     "output_type": "execute_result"
    }
   ],
   "source": [
    "typeof(x)"
   ]
  },
  {
   "cell_type": "code",
   "execution_count": 480,
   "id": "78c275a4-b759-4bd4-b1e9-7c6e9bf8e83b",
   "metadata": {},
   "outputs": [
    {
     "data": {
      "text/plain": [
       "#772 (generic function with 1 method)"
      ]
     },
     "execution_count": 480,
     "metadata": {},
     "output_type": "execute_result"
    }
   ],
   "source": [
    "myfun = y -> quote\n",
    "    #= none:1 =#\n",
    "    y + 1\n",
    "end"
   ]
  },
  {
   "cell_type": "code",
   "execution_count": 481,
   "id": "c92f4a6e-70eb-4f24-9f71-e10b29b031b4",
   "metadata": {},
   "outputs": [
    {
     "data": {
      "text/plain": [
       "quote\n",
       "    \u001b[90m#= In[480]:3 =#\u001b[39m\n",
       "    y + 1\n",
       "end"
      ]
     },
     "execution_count": 481,
     "metadata": {},
     "output_type": "execute_result"
    }
   ],
   "source": [
    "myfun(3)"
   ]
  },
  {
   "cell_type": "code",
   "execution_count": 484,
   "id": "2d2dff33-cd45-4355-9abe-3203662d103b",
   "metadata": {},
   "outputs": [
    {
     "ename": "LoadError",
     "evalue": "KeyError: key :y not found",
     "output_type": "error",
     "traceback": [
      "KeyError: key :y not found",
      "",
      "Stacktrace:",
      " [1] getindex(h::Dict{Any, Any}, key::Symbol)",
      "   @ Base .\\dict.jl:498",
      " [2] my_eval(expr::Symbol)",
      "   @ Main .\\In[284]:17",
      " [3] (::var\"#438#445\"{Expr})(x::Int64)",
      "   @ Main .\\essentials.jl:0",
      " [4] iterate",
      "   @ .\\generator.jl:47 [inlined]",
      " [5] collect(itr::Base.Generator{UnitRange{Int64}, var\"#438#445\"{Expr}})",
      "   @ Base .\\array.jl:834",
      " [6] my_eval(expr::Expr)",
      "   @ Main .\\In[284]:51",
      " [7] my_eval(expr::Expr)",
      "   @ Main .\\In[284]:28",
      " [8] top-level scope",
      "   @ In[484]:1"
     ]
    }
   ],
   "source": [
    "my_eval(quote\n",
    "    #= none:1 =#\n",
    "    y + 1\n",
    "end)"
   ]
  },
  {
   "cell_type": "code",
   "execution_count": 535,
   "id": "404be60c-01ff-4abc-bab8-c20dc966da3b",
   "metadata": {},
   "outputs": [
    {
     "data": {
      "text/plain": [
       ":(y->begin\n",
       "          \u001b[90m#= none:1 =#\u001b[39m\n",
       "          y + 1\n",
       "      end)"
      ]
     },
     "execution_count": 535,
     "metadata": {},
     "output_type": "execute_result"
    }
   ],
   "source": [
    "Meta.parse(\"(y->y+1)(3)\").args[1]"
   ]
  },
  {
   "cell_type": "markdown",
   "id": "bf14477f-9bf8-4dfa-a498-b90d2441193d",
   "metadata": {},
   "source": [
    "## "
   ]
  }
 ],
 "metadata": {
  "kernelspec": {
   "display_name": "Julia 1.10.2",
   "language": "julia",
   "name": "julia-1.10"
  },
  "language_info": {
   "file_extension": ".jl",
   "mimetype": "application/julia",
   "name": "julia",
   "version": "1.10.2"
  }
 },
 "nbformat": 4,
 "nbformat_minor": 5
}
