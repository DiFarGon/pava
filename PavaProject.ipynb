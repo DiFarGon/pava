{
 "cells": [
  {
   "cell_type": "code",
   "execution_count": 401,
   "id": "354c6fa6-5d31-4a3c-a2a4-3ab2b3682a43",
   "metadata": {},
   "outputs": [
    {
     "data": {
      "text/plain": [
       "my_eval (generic function with 2 methods)"
      ]
     },
     "execution_count": 401,
     "metadata": {},
     "output_type": "execute_result"
    }
   ],
   "source": [
    "global_namespace = Dict()\n",
    "\n",
    "function metajulia_repl()\n",
    "    print(\">>\", \" \")\n",
    "    ans = readline()\n",
    "    parsed_ans = Meta.parse(ans)\n",
    "    my_eval(parsed_ans, global_namespace)\n",
    "end\n",
    "\n",
    "function my_eval(expr, namespace)\n",
    "    if !(expr isa Expr)\n",
    "        if expr isa Symbol\n",
    "            return namespace[expr]\n",
    "        else\n",
    "            return expr\n",
    "        end\n",
    "    else\n",
    "        if expr.head == :block\n",
    "            for arg in expr.args[begin:end-1]\n",
    "                if !(arg isa LineNumberNode)\n",
    "                    my_eval(arg, namespace)\n",
    "                end\n",
    "            end\n",
    "            return !(expr.args[end] isa LineNumberNode) ? my_eval(expr.args[end], namespace) : nothing\n",
    "        elseif expr.head == :&&\n",
    "            return reduce(&, [my_eval(expr.args[x], namespace) for x in 1:length(expr.args)])\n",
    "        elseif expr.head == :||\n",
    "            return reduce(|, [my_eval(expr.args[x], namespace) for x in 1:length(expr.args)])\n",
    "        elseif expr.head == :if\n",
    "            return my_eval(expr.args[1], namespace) ? my_eval(expr.args[2], namespace) : my_eval(expr.args[3], namespace)\n",
    "        elseif expr.head == :elseif\n",
    "            return my_eval(expr.args[1].args[2]) ? my_eval(expr.args[2], namespace) : my_eval(expr.args[3], namespace)\n",
    "        elseif expr.head == :(=)\n",
    "            namespace[expr.args[1]] = my_eval(expr.args[2], namespace)\n",
    "        elseif expr.head == :let\n",
    "            # println(\"let\")\n",
    "            # println(expr.args[begin])\n",
    "            # println(expr.args[end])\n",
    "            let\n",
    "                scope_dict = copy(namespace)\n",
    "                for arg in expr.args[begin:end-1]\n",
    "                    if !(arg isa LineNumberNode)\n",
    "                        my_eval(arg, scope_dict)\n",
    "                    end\n",
    "                end\n",
    "                # println(!(expr.args[end] isa LineNumberNode))\n",
    "                return !(expr.args[end] isa LineNumberNode) ? my_eval(expr.args[end], scope_dict) : nothing\n",
    "            end\n",
    "        elseif expr.head == :call\n",
    "            if expr.args[1] == :+\n",
    "                return reduce(+, [my_eval(expr.args[x], namespace) for x in 2:length(expr.args)])\n",
    "            elseif expr.args[1] == :*\n",
    "                return reduce(*, [my_eval(expr.args[x], namespace) for x in 2:length(expr.args)])\n",
    "            elseif expr.args[1] == :/\n",
    "                return reduce(/, [my_eval(expr.args[x], namespace) for x in 2:length(expr.args)])\n",
    "            elseif expr.args[1] == :<\n",
    "                return reduce(<, [my_eval(expr.args[x], namespace) for x in 2:length(expr.args)])\n",
    "            elseif expr.args[1] == :>\n",
    "                return reduce(>, [my_eval(expr.args[x], namespace) for x in 2:length(expr.args)])\n",
    "            end\n",
    "        end\n",
    "    end\n",
    "end"
   ]
  },
  {
   "cell_type": "code",
   "execution_count": 409,
   "id": "df1edb06-5951-4590-a64b-6b712b372228",
   "metadata": {},
   "outputs": [
    {
     "name": "stdout",
     "output_type": "stream",
     "text": [
      ">> "
     ]
    },
    {
     "name": "stdin",
     "output_type": "stream",
     "text": [
      "stdin>  b\n"
     ]
    },
    {
     "ename": "LoadError",
     "evalue": "KeyError: key :b not found",
     "output_type": "error",
     "traceback": [
      "KeyError: key :b not found",
      "",
      "Stacktrace:",
      " [1] getindex",
      "   @ .\\dict.jl:498 [inlined]",
      " [2] my_eval(expr::Symbol, namespace::Dict{Any, Any})",
      "   @ Main .\\In[401]:13",
      " [3] metajulia_repl()",
      "   @ Main .\\In[401]:7",
      " [4] top-level scope",
      "   @ In[409]:1"
     ]
    }
   ],
   "source": [
    "metajulia_repl()"
   ]
  },
  {
   "cell_type": "code",
   "execution_count": 283,
   "id": "fc8be44f-3d63-48c3-a452-f310425b4ce9",
   "metadata": {},
   "outputs": [
    {
     "data": {
      "text/plain": [
       "true"
      ]
     },
     "execution_count": 283,
     "metadata": {},
     "output_type": "execute_result"
    }
   ],
   "source": [
    "Meta.parse(\"x = 1\").args[1] isa Symbol"
   ]
  },
  {
   "cell_type": "code",
   "execution_count": 246,
   "id": "1da180cb-2c46-45c4-a1d9-deb013ba37a7",
   "metadata": {},
   "outputs": [
    {
     "ename": "LoadError",
     "evalue": "MethodError: no method matching my_eval()\n\n\u001b[0mClosest candidates are:\n\u001b[0m  my_eval(\u001b[91m::Any\u001b[39m)\n\u001b[0m\u001b[90m   @\u001b[39m \u001b[35mMain\u001b[39m \u001b[90m\u001b[4mIn[242]:9\u001b[24m\u001b[39m\n",
     "output_type": "error",
     "traceback": [
      "MethodError: no method matching my_eval()\n\n\u001b[0mClosest candidates are:\n\u001b[0m  my_eval(\u001b[91m::Any\u001b[39m)\n\u001b[0m\u001b[90m   @\u001b[39m \u001b[35mMain\u001b[39m \u001b[90m\u001b[4mIn[242]:9\u001b[24m\u001b[39m\n",
      "",
      "Stacktrace:",
      " [1] top-level scope",
      "   @ In[246]:1"
     ]
    }
   ],
   "source": [
    "my_eval()"
   ]
  },
  {
   "cell_type": "code",
   "execution_count": 211,
   "id": "1cb759c2-2f3e-4362-9f93-42fdc6ae1b14",
   "metadata": {},
   "outputs": [
    {
     "data": {
      "text/plain": [
       "2-element Vector{Any}:\n",
       " :(x = 1)\n",
       " quote\n",
       "    \u001b[90m#= none:1 =#\u001b[39m\n",
       "    y = 2\n",
       "    \u001b[90m#= none:1 =#\u001b[39m\n",
       "    z = 3\n",
       "    \u001b[90m#= none:1 =#\u001b[39m\n",
       "    x\n",
       "end"
      ]
     },
     "execution_count": 211,
     "metadata": {},
     "output_type": "execute_result"
    }
   ],
   "source": [
    "Meta.parse(\"let x = 1; y = 2; z = 3; x end\").args\n"
   ]
  },
  {
   "cell_type": "code",
   "execution_count": 333,
   "id": "0e79013e-e5e6-40b3-be3a-0d95a7e8efe5",
   "metadata": {},
   "outputs": [
    {
     "data": {
      "text/plain": [
       "1-element Vector{Any}:\n",
       " :(\u001b[90m#= none:1 =#\u001b[39m)"
      ]
     },
     "execution_count": 333,
     "metadata": {},
     "output_type": "execute_result"
    }
   ],
   "source": [
    "Meta.parse(\"let var = 100 end\").args[end].args"
   ]
  },
  {
   "cell_type": "code",
   "execution_count": 227,
   "id": "ce329810-bdc8-4900-9ee4-4c3163442503",
   "metadata": {},
   "outputs": [
    {
     "data": {
      "text/plain": [
       "1"
      ]
     },
     "execution_count": 227,
     "metadata": {},
     "output_type": "execute_result"
    }
   ],
   "source": [
    "x = 1"
   ]
  },
  {
   "cell_type": "code",
   "execution_count": 228,
   "id": "a1570bc4-8e1e-4b7b-bf3b-77ce1fa09222",
   "metadata": {},
   "outputs": [
    {
     "data": {
      "text/plain": [
       "Int64"
      ]
     },
     "execution_count": 228,
     "metadata": {},
     "output_type": "execute_result"
    }
   ],
   "source": [
    "typeof(x)"
   ]
  },
  {
   "cell_type": "code",
   "execution_count": null,
   "id": "78c275a4-b759-4bd4-b1e9-7c6e9bf8e83b",
   "metadata": {},
   "outputs": [],
   "source": []
  }
 ],
 "metadata": {
  "kernelspec": {
   "display_name": "Julia 1.10.2",
   "language": "julia",
   "name": "julia-1.10"
  },
  "language_info": {
   "file_extension": ".jl",
   "mimetype": "application/julia",
   "name": "julia",
   "version": "1.10.2"
  }
 },
 "nbformat": 4,
 "nbformat_minor": 5
}
